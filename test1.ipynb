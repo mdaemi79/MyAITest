{
 "cells": [
  {
   "cell_type": "code",
   "execution_count": null,
   "metadata": {
    "vscode": {
     "languageId": "plaintext"
    }
   },
   "outputs": [],
   "source": [
    "router = {\"Hostname\":\"Cisco router CSR \", \"pass\": \" Juniper router am1\"}\n",
    "\n",
    "route1= \"This is My router\"\n",
    "route1_Mac = \"00:aa:11:bb:cc\"\n",
    "route1_Mac.split(\":\",1)\n"
   ]
  }
 ],
 "metadata": {
  "language_info": {
   "name": "python"
  }
 },
 "nbformat": 4,
 "nbformat_minor": 2
}
